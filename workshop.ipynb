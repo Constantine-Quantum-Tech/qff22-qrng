{
 "cells": [
  {
   "cell_type": "code",
   "execution_count": 6,
   "id": "36e761f0",
   "metadata": {},
   "outputs": [
    {
     "name": "stdout",
     "output_type": "stream",
     "text": [
      "Hello world\n"
     ]
    }
   ],
   "source": [
    "import qiskit\n",
    "print('Hello world')"
   ]
  },
  {
   "cell_type": "code",
   "execution_count": 5,
   "id": "3a722648",
   "metadata": {},
   "outputs": [
    {
     "name": "stdout",
     "output_type": "stream",
     "text": [
      "Hello world\n"
     ]
    }
   ],
   "source": [
    "qreg1 = QuantumRegister(4)\n",
    "creg1 = ClassicalRegister(4)\n",
    "\n",
    "qc1 = QuantumCircuit(qreg1, creg1)\n",
    "\n",
    "theta = np.pi / 2\n",
    "phi = np.pi / 2\n",
    "\n",
    "a = np.cos(theta / 2)\n",
    "b = np.sin(theta / 2) * np.exp(1j * phi)\n",
    "\n",
    "qc1.h(qreg1[0])\n",
    "qc1.h(qreg1[1])\n",
    "qc1.h(qreg1[2])\n",
    "qc1.h(qreg1[3])\n",
    "\n",
    "\n",
    "qc1.measure(0, 0)\n",
    "\n",
    "qc1.measure(1, 1)\n",
    "\n",
    "qc1.measure(2, 2)\n",
    "\n",
    "qc1.measure(3, 3)\n",
    "\n",
    "backend = BasicAer.get_backend('qasm_simulator')\n",
    "\n",
    "execute(qc1, backend, shots = 1000)"
   ]
  },
  {
   "cell_type": "code",
   "execution_count": 10,
   "id": "5c00aa31",
   "metadata": {},
   "outputs": [],
   "source": [
    "from qiskit import QuantumCircuit"
   ]
  },
  {
   "cell_type": "code",
   "execution_count": 11,
   "id": "53af6151",
   "metadata": {},
   "outputs": [],
   "source": [
    "qc=QuantumCircuit()"
   ]
  },
  {
   "cell_type": "code",
   "execution_count": 12,
   "id": "98a73dbc",
   "metadata": {},
   "outputs": [],
   "source": [
    "qc = QuantumCircuit()"
   ]
  },
  {
   "cell_type": "code",
   "execution_count": 16,
   "id": "4392eb3c",
   "metadata": {},
   "outputs": [
    {
     "ename": "ModuleNotFoundError",
     "evalue": "No module named 'helper'",
     "output_type": "error",
     "traceback": [
      "\u001b[1;31m---------------------------------------------------------------------------\u001b[0m",
      "\u001b[1;31mModuleNotFoundError\u001b[0m                       Traceback (most recent call last)",
      "\u001b[1;32m<ipython-input-16-6cebc52ac898>\u001b[0m in \u001b[0;36m<module>\u001b[1;34m\u001b[0m\n\u001b[1;32m----> 1\u001b[1;33m \u001b[1;32mfrom\u001b[0m \u001b[0mhelper\u001b[0m \u001b[1;32mimport\u001b[0m \u001b[0mexecute\u001b[0m\u001b[1;33m\u001b[0m\u001b[1;33m\u001b[0m\u001b[0m\n\u001b[0m",
      "\u001b[1;31mModuleNotFoundError\u001b[0m: No module named 'helper'"
     ]
    }
   ],
   "source": [
    "from helper import execute"
   ]
  },
  {
   "cell_type": "code",
   "execution_count": null,
   "id": "566eeaee",
   "metadata": {},
   "outputs": [],
   "source": []
  }
 ],
 "metadata": {
  "kernelspec": {
   "display_name": "Python 3",
   "language": "python",
   "name": "python3"
  },
  "language_info": {
   "codemirror_mode": {
    "name": "ipython",
    "version": 3
   },
   "file_extension": ".py",
   "mimetype": "text/x-python",
   "name": "python",
   "nbconvert_exporter": "python",
   "pygments_lexer": "ipython3",
   "version": "3.8.8"
  }
 },
 "nbformat": 4,
 "nbformat_minor": 5
}
